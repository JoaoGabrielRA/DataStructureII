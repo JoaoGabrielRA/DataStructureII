{
 "cells": [
  {
   "cell_type": "code",
   "execution_count": 1,
   "metadata": {},
   "outputs": [
    {
     "name": "stdout",
     "output_type": "stream",
     "text": [
      "[1, 3, 6, 7]\n"
     ]
    }
   ],
   "source": [
    "import pytest\n",
    "from stack import *\n",
    "\n",
    "def sunsetViews(buildings, direction):\n",
    "    \"\"\"\n",
    "    Given an array of buildings and a direction that all of the buildings face,\n",
    "    return an array of the indices of the buildings that can see the sunset.\n",
    "    \n",
    "    A building can see the sunset if it's strictly taller than all of the buildings\n",
    "    that come after it in the direction that it faces.\n",
    "\n",
    "    Args:\n",
    "    buildings (list): A list of positive, non-zero integers representing the heights of the buildings.\n",
    "    direction (str): A string denoting the direction the buildings face, either 'EAST' or 'WEST'.\n",
    "    \n",
    "    Returns:\n",
    "    list: A sorted list of indices of the buildings that can see the sunset.\n",
    "    \"\"\"\n",
    "    result = Stack()\n",
    "    higher_building = 0\n",
    "    i = 0\n",
    "    if direction == 'WEST':\n",
    "        for values in buildings:\n",
    "            if values > higher_building:\n",
    "                higher_building = values\n",
    "                result.push(buildings.index(values))\n",
    "    elif direction == 'EAST':\n",
    "        for i in range(len(buildings) - 1, -1, -1):\n",
    "            if buildings[i] > higher_building:\n",
    "                higher_building = buildings[i]\n",
    "                result.push(i)        \n",
    "            \n",
    "    return sorted(list(result))\n",
    "\n",
    "building = [3, 5, 4, 4, 3, 1, 3, 2]\n",
    "print(sunsetViews(building,'EAST'))\n"
   ]
  },
  {
   "cell_type": "code",
   "execution_count": 2,
   "metadata": {},
   "outputs": [],
   "source": [
    "array = []\n",
    "\n",
    "# test 1 data\n",
    "array.append([3, 5, 4, 4, 3, 1, 3, 2])\n",
    "\n",
    "# test 2 data\n",
    "array.append([3, 5, 4, 4, 3, 1, 3, 2])\n",
    "\n",
    "# test 3 data\n",
    "array.append([10, 11])\n",
    "\n",
    "# test 4 data\n",
    "array.append([2,4])\n",
    "\n",
    "# test 5 data\n",
    "array.append([1])\n",
    "\n",
    "# test 6 data\n",
    "array.append([1])\n",
    "\n",
    "# test 7 data\n",
    "array.append([])\n",
    "\n",
    "# test 8 data\n",
    "array.append([])\n",
    "\n",
    "# test 9 data\n",
    "array.append([7, 1, 7, 8, 9, 8, 7, 6, 5, 4, 2, 5])\n",
    "\n",
    "# test 10 data\n",
    "array.append([1, 2, 3, 4, 5, 6])\n",
    "\n",
    "# test 11 data\n",
    "array.append([1, 2, 3, 4, 5, 6])\n",
    "\n",
    "# test 12 data\n",
    "array.append([1, 2, 3, 1, 5, 6, 9, 1, 9, 9, 11, 10, 9, 12, 8])\n",
    "\n",
    "# test 13 data\n",
    "array.append([20, 2, 3, 1, 5, 6, 9, 1, 9, 9, 11, 10, 9, 12, 8])"
   ]
  },
  {
   "cell_type": "code",
   "execution_count": 3,
   "metadata": {},
   "outputs": [
    {
     "data": {
      "text/plain": [
       "True"
      ]
     },
     "execution_count": 3,
     "metadata": {},
     "output_type": "execute_result"
    }
   ],
   "source": [
    "\n",
    "\n",
    "buildings = array[1]\n",
    "direction = \"EAST\"\n",
    "sunsetViews(buildings, direction) == [1, 3, 6, 7]"
   ]
  },
  {
   "cell_type": "code",
   "execution_count": 4,
   "metadata": {},
   "outputs": [
    {
     "data": {
      "text/plain": [
       "True"
      ]
     },
     "execution_count": 4,
     "metadata": {},
     "output_type": "execute_result"
    }
   ],
   "source": [
    "\n",
    "\n",
    "buildings = array[2]\n",
    "direction = \"WEST\"\n",
    "sunsetViews(buildings, direction) == [0,1]"
   ]
  },
  {
   "cell_type": "code",
   "execution_count": 5,
   "metadata": {},
   "outputs": [
    {
     "data": {
      "text/plain": [
       "True"
      ]
     },
     "execution_count": 5,
     "metadata": {},
     "output_type": "execute_result"
    }
   ],
   "source": [
    "\n",
    "\n",
    "buildings = array[3]\n",
    "direction = \"EAST\"\n",
    "sunsetViews(buildings, direction) == [1]"
   ]
  },
  {
   "cell_type": "code",
   "execution_count": 6,
   "metadata": {},
   "outputs": [
    {
     "data": {
      "text/plain": [
       "False"
      ]
     },
     "execution_count": 6,
     "metadata": {},
     "output_type": "execute_result"
    }
   ],
   "source": [
    "\n",
    "\n",
    "buildings = array[4]\n",
    "direction = \"WEST\"\n",
    "sunsetViews(buildings, direction) == [0,1]"
   ]
  },
  {
   "cell_type": "code",
   "execution_count": 7,
   "metadata": {},
   "outputs": [
    {
     "data": {
      "text/plain": [
       "True"
      ]
     },
     "execution_count": 7,
     "metadata": {},
     "output_type": "execute_result"
    }
   ],
   "source": [
    "\n",
    "\n",
    "buildings = array[5]\n",
    "direction = \"EAST\"\n",
    "sunsetViews(buildings, direction) == [0]"
   ]
  },
  {
   "cell_type": "code",
   "execution_count": 8,
   "metadata": {},
   "outputs": [
    {
     "data": {
      "text/plain": [
       "True"
      ]
     },
     "execution_count": 8,
     "metadata": {},
     "output_type": "execute_result"
    }
   ],
   "source": [
    "\n",
    "\n",
    "buildings = array[6]\n",
    "direction = \"EAST\"\n",
    "sunsetViews(buildings, direction) == []"
   ]
  },
  {
   "cell_type": "code",
   "execution_count": 9,
   "metadata": {},
   "outputs": [
    {
     "data": {
      "text/plain": [
       "True"
      ]
     },
     "execution_count": 9,
     "metadata": {},
     "output_type": "execute_result"
    }
   ],
   "source": [
    "\n",
    "\n",
    "buildings = array[7]\n",
    "direction = \"WEST\"\n",
    "sunsetViews(buildings, direction) == []"
   ]
  },
  {
   "cell_type": "code",
   "execution_count": 10,
   "metadata": {},
   "outputs": [
    {
     "data": {
      "text/plain": [
       "True"
      ]
     },
     "execution_count": 10,
     "metadata": {},
     "output_type": "execute_result"
    }
   ],
   "source": [
    "\n",
    "\n",
    "buildings = array[8]\n",
    "direction = \"EAST\"\n",
    "sunsetViews(buildings, direction) ==  [4, 5, 6, 7, 11]"
   ]
  },
  {
   "cell_type": "code",
   "execution_count": 11,
   "metadata": {},
   "outputs": [
    {
     "data": {
      "text/plain": [
       "True"
      ]
     },
     "execution_count": 11,
     "metadata": {},
     "output_type": "execute_result"
    }
   ],
   "source": [
    "\n",
    "\n",
    "buildings = array[9]\n",
    "direction = \"EAST\"\n",
    "sunsetViews(buildings, direction) == [5]"
   ]
  },
  {
   "cell_type": "code",
   "execution_count": 12,
   "metadata": {},
   "outputs": [
    {
     "data": {
      "text/plain": [
       "True"
      ]
     },
     "execution_count": 12,
     "metadata": {},
     "output_type": "execute_result"
    }
   ],
   "source": [
    "buildings = array[10]\n",
    "direction = \"WEST\"\n",
    "sunsetViews(buildings, direction) ==  [0, 1, 2, 3, 4, 5]"
   ]
  },
  {
   "cell_type": "code",
   "execution_count": 13,
   "metadata": {},
   "outputs": [
    {
     "data": {
      "text/plain": [
       "True"
      ]
     },
     "execution_count": 13,
     "metadata": {},
     "output_type": "execute_result"
    }
   ],
   "source": [
    "buildings = array[11]\n",
    "direction = \"WEST\"\n",
    "sunsetViews(buildings, direction) ==  [0, 1, 2, 4, 5, 6, 10, 13]"
   ]
  },
  {
   "cell_type": "code",
   "execution_count": 14,
   "metadata": {},
   "outputs": [
    {
     "data": {
      "text/plain": [
       "True"
      ]
     },
     "execution_count": 14,
     "metadata": {},
     "output_type": "execute_result"
    }
   ],
   "source": [
    "buildings = array[12]\n",
    "direction = \"EAST\"\n",
    "sunsetViews(buildings, direction) ==  [0, 13, 14]"
   ]
  },
  {
   "cell_type": "code",
   "execution_count": null,
   "metadata": {},
   "outputs": [],
   "source": []
  }
 ],
 "metadata": {
  "kernelspec": {
   "display_name": "Python 3.11.2 64-bit",
   "language": "python",
   "name": "python3"
  },
  "language_info": {
   "codemirror_mode": {
    "name": "ipython",
    "version": 3
   },
   "file_extension": ".py",
   "mimetype": "text/x-python",
   "name": "python",
   "nbconvert_exporter": "python",
   "pygments_lexer": "ipython3",
   "version": "3.11.2"
  },
  "orig_nbformat": 4,
  "vscode": {
   "interpreter": {
    "hash": "1a1af0ee75eeea9e2e1ee996c87e7a2b11a0bebd85af04bb136d915cefc0abce"
   }
  }
 },
 "nbformat": 4,
 "nbformat_minor": 2
}
