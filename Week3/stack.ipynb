{
 "cells": [
  {
   "cell_type": "code",
   "execution_count": 1,
   "metadata": {},
   "outputs": [
    {
     "name": "stdout",
     "output_type": "stream",
     "text": [
      "Overwriting stack.py\n"
     ]
    }
   ],
   "source": [
    "%%file stack.py\n",
    "from linkedlist import *\n",
    "\n",
    "class Stack(LinkedList):\n",
    "    \"\"\"\n",
    "    This class represents a stack data structure that inherits from a linked list.\n",
    "    \n",
    "    Methods:\n",
    "    push(data) -- adds a new node to the top of the stack with the given data.\n",
    "    peek() -- returns the data at the top of the stack without removing it.\n",
    "    pop() -- removes and returns the node at the top of the stack.\n",
    "    \"\"\"\n",
    "    \n",
    "    def push(self, data):\n",
    "        \"\"\"\n",
    "        Adds a new node to the top of the stack with the given data.\n",
    "        \n",
    "        Arguments:\n",
    "        data -- the data to be stored in the new node.\n",
    "        \"\"\"\n",
    "        self.append(data)\n",
    "\n",
    "    def peek(self):\n",
    "        \"\"\"\n",
    "        Returns the data at the top of the stack without removing it.\n",
    "        \"\"\"\n",
    "        return self.tail.data\n",
    "\n",
    "    def pop(self):\n",
    "        \"\"\"\n",
    "        Removes and returns the node at the top of the stack.\n",
    "        \n",
    "        Returns:\n",
    "        The data stored in the node at the top of the stack.\n",
    "        \"\"\"\n",
    "        ret = self.tail.data\n",
    "        if self.length == 1:\n",
    "            self.tail = self.head = None\n",
    "        else:\n",
    "            self.tail = self.tail.prev\n",
    "            self.tail.next = None"
   ]
  }
 ],
 "metadata": {
  "kernelspec": {
   "display_name": "Python 3",
   "language": "python",
   "name": "python3"
  },
  "language_info": {
   "codemirror_mode": {
    "name": "ipython",
    "version": 3
   },
   "file_extension": ".py",
   "mimetype": "text/x-python",
   "name": "python",
   "nbconvert_exporter": "python",
   "pygments_lexer": "ipython3",
   "version": "3.11.2"
  },
  "orig_nbformat": 4
 },
 "nbformat": 4,
 "nbformat_minor": 2
}
