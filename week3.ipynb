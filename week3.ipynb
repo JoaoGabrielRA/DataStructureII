{
 "cells": [
  {
   "cell_type": "code",
   "execution_count": 42,
   "metadata": {},
   "outputs": [],
   "source": [
    "\n",
    "# To produce the file linkedlist.py, please remove the comment symbol '#' from the beginning of the line below.\n",
    "# %%file linkedlist.py\n",
    "\n",
    "class Node:\n",
    "    \"\"\"A class representing a node in a doubly linked list.\"\"\"\n",
    "\n",
    "    def __init__(self, data):\n",
    "        \"\"\"Initialize a new node with the given data.\"\"\"\n",
    "        self.data = data\n",
    "        self.prev = None\n",
    "        self.next = None\n",
    "\n",
    "class LinkedList:\n",
    "    \"\"\"A class representing a doubly linked list.\"\"\"\n",
    "\n",
    "    def __init__(self):\n",
    "        \"\"\"Initialize an empty linked list.\"\"\"\n",
    "        self.head = None\n",
    "        self.tail = None\n",
    "        self.length = 0\n",
    "        \n",
    "    def append(self, data):\n",
    "        \"\"\"Add a new node with the given data to the end of the linked list.\"\"\"\n",
    "        new_node = Node(data)\n",
    "        if self.length == 0:\n",
    "            self.head = self.tail = new_node\n",
    "        else:\n",
    "            self.tail.next = new_node\n",
    "            new_node.prev = self.tail\n",
    "            self.tail = new_node\n",
    "        self.length += 1\n",
    "        \n",
    "    def __iter__(self):\n",
    "        \"\"\"Return an iterator for the linked list.\"\"\"\n",
    "        self._iter_node = self.head\n",
    "        return self \n",
    "    \n",
    "    def __next__(self):\n",
    "        \"\"\"Return the next value in the linked list.\"\"\"\n",
    "        if self._iter_node is None:\n",
    "            raise StopIteration\n",
    "        ret = self._iter_node.data\n",
    "        self._iter_node = self._iter_node.next\n",
    "        return ret\n",
    "    \n",
    "    def prepend(self, data):\n",
    "        \"\"\"Add a new node with the given data to the beginning of the linked list.\"\"\"\n",
    "        new_node = Node(data)\n",
    "        if self.length == 0:\n",
    "            self.head = self.tail = new_node\n",
    "        else:\n",
    "            self.head.prev = new_node\n",
    "            new_node.next = self.head\n",
    "            self.head = new_node\n",
    "        self.length += 1\n",
    "    \n",
    "    def remove_duplicates(self):\n",
    "        current_node = self.head\n",
    "        while current_node is not None:\n",
    "            next_node = current_node.next\n",
    "            while next_node is not None:\n",
    "                if current_node.data == next_node.data:\n",
    "                    if next_node.next is not None:\n",
    "                        next_node.next.prev = next_node.prev\n",
    "                    else:\n",
    "                        self.tail = next_node.prev\n",
    "                    next_node.prev.next = next_node.next\n",
    "                next_node = next_node.next\n",
    "            current_node = current_node.next\n",
    "        \n",
    "    def print_list(self):\n",
    "        current_node = self.head\n",
    "        while current_node is not None:\n",
    "            print(current_node.data, end=' ')\n",
    "            current_node = current_node.next\n",
    "        print()\n",
    "    \n",
    "    def __len__(self):\n",
    "        \"\"\"Return the length of the linked list.\"\"\"\n",
    "        return self.length\n",
    "    \n",
    "    def __str__(self):\n",
    "        \"\"\"Return a string representation of the linked list.\"\"\"\n",
    "        return str([value for value in self])\n",
    "\n",
    "    def __eq__(self, other):\n",
    "        \"\"\"Check if two linked lists are equal.\n",
    "\n",
    "        Traverse both linked lists and compare the data of each node. \n",
    "        If the data of all nodes in both linked lists match, return True. \n",
    "        Otherwise, return False.\n",
    "\n",
    "        Args:\n",
    "            other (LinkedList): The linked list to compare with self.\n",
    "\n",
    "        Returns:\n",
    "            bool: True if the linked lists are equal, False otherwise.\n",
    "        \"\"\"\n",
    "        # Check if the lengths of the linked lists are the same\n",
    "        if len(self) != len(other):\n",
    "            print(self,other)\n",
    "            return False\n",
    "        \n",
    "        # Iterate over both linked lists and compare the data of each node\n",
    "        for node1, node2 in zip(self, other):\n",
    "            if node1 != node2:\n",
    "                print(node1.data,node2.data)\n",
    "                return False\n",
    "        \n",
    "        # If we made it this far, the linked lists are equal\n",
    "        return True"
   ]
  },
  {
   "cell_type": "code",
   "execution_count": 43,
   "metadata": {},
   "outputs": [],
   "source": [
    "doubly = LinkedList()\n",
    "doubly.append(1)\n",
    "doubly.append(1)\n",
    "doubly.append(2)\n",
    "doubly.append(3)\n",
    "doubly.append(4)\n",
    "doubly.append(4)\n",
    "doubly.append(4)\n",
    "doubly.append(5)\n",
    "doubly.append(6)\n",
    "doubly.append(6)\n"
   ]
  },
  {
   "cell_type": "code",
   "execution_count": 44,
   "metadata": {},
   "outputs": [
    {
     "name": "stdout",
     "output_type": "stream",
     "text": [
      "1\n",
      "-\n",
      "1\n",
      "-\n",
      "2\n",
      "-\n",
      "3\n",
      "-\n",
      "4\n",
      "-\n",
      "4\n",
      "-\n",
      "4\n",
      "-\n",
      "5\n",
      "-\n",
      "6\n",
      "-\n",
      "6\n",
      "-\n"
     ]
    }
   ],
   "source": [
    "# print the original list\n",
    "current_node = doubly.head\n",
    "while current_node is not None:\n",
    "    print(current_node.data)\n",
    "    print('-')\n",
    "    current_node = current_node.next\n",
    "    "
   ]
  },
  {
   "cell_type": "code",
   "execution_count": 45,
   "metadata": {},
   "outputs": [],
   "source": [
    "doubly.remove_duplicates()"
   ]
  },
  {
   "cell_type": "code",
   "execution_count": 46,
   "metadata": {},
   "outputs": [
    {
     "name": "stdout",
     "output_type": "stream",
     "text": [
      "1\n",
      "-\n",
      "2\n",
      "-\n",
      "3\n",
      "-\n",
      "4\n",
      "-\n",
      "5\n",
      "-\n",
      "6\n",
      "-\n"
     ]
    }
   ],
   "source": [
    "\n",
    "current_node = doubly.head\n",
    "while current_node is not None:\n",
    "    print(current_node.data)\n",
    "    print('-')\n",
    "    current_node = current_node.next\n",
    "    "
   ]
  },
  {
   "cell_type": "code",
   "execution_count": 47,
   "metadata": {},
   "outputs": [],
   "source": [
    "def merge_in_order(link1, link2):\n",
    "        if link1.head is None:\n",
    "            link1.head = link2.head\n",
    "            return\n",
    "        \n",
    "        if link2.head is None:\n",
    "            return\n",
    "        \n",
    "        current_node = link1.head\n",
    "        other_node = link2.head\n",
    "        \n",
    "        if current_node.data > other_node.data:\n",
    "            link1.head = other_node\n",
    "            other_node = other_node.next\n",
    "            link1.head.next = current_node\n",
    "        else:\n",
    "            current_node = current_node.next\n",
    "        \n",
    "        previous_node = link1.head\n",
    "        while current_node is not None and other_node is not None:\n",
    "            if current_node.data > other_node.data:\n",
    "                previous_node.next = other_node\n",
    "                other_node = other_node.next\n",
    "                previous_node.next.next = current_node\n",
    "            else:\n",
    "                previous_node = current_node\n",
    "                current_node = current_node.next\n",
    "        \n",
    "        if other_node is not None:\n",
    "            previous_node.next = other_node\n",
    "    \n",
    "        return link1"
   ]
  },
  {
   "cell_type": "code",
   "execution_count": 48,
   "metadata": {},
   "outputs": [
    {
     "name": "stdout",
     "output_type": "stream",
     "text": [
      "List 1:\n",
      "1 3 5 \n",
      "List 2:\n",
      "2 4 6 \n"
     ]
    }
   ],
   "source": [
    "list1 = LinkedList()\n",
    "list1.append(1)\n",
    "list1.append(3)\n",
    "list1.append(5)\n",
    "\n",
    "list2 = LinkedList()\n",
    "list2.append(2)\n",
    "list2.append(4)\n",
    "list2.append(8)\n",
    "\n",
    "print(\"List 1:\")\n",
    "list1.print_list()  # Output: 1 3 5\n",
    "\n",
    "print(\"List 2:\")\n",
    "list2.print_list()  # Output: 2 4 6"
   ]
  },
  {
   "cell_type": "code",
   "execution_count": 49,
   "metadata": {},
   "outputs": [],
   "source": [
    "merged = merge_in_order(list1,list2)\n"
   ]
  },
  {
   "cell_type": "code",
   "execution_count": 50,
   "metadata": {},
   "outputs": [
    {
     "name": "stdout",
     "output_type": "stream",
     "text": [
      "1\n",
      "-\n",
      "2\n",
      "-\n",
      "3\n",
      "-\n",
      "4\n",
      "-\n",
      "5\n",
      "-\n",
      "6\n",
      "-\n"
     ]
    }
   ],
   "source": [
    "current_node = merged.head\n",
    "while current_node is not None:\n",
    "    print(current_node.data)\n",
    "    print('-')\n",
    "    current_node = current_node.next"
   ]
  }
 ],
 "metadata": {
  "kernelspec": {
   "display_name": "Python 3.10.10 64-bit",
   "language": "python",
   "name": "python3"
  },
  "language_info": {
   "codemirror_mode": {
    "name": "ipython",
    "version": 3
   },
   "file_extension": ".py",
   "mimetype": "text/x-python",
   "name": "python",
   "nbconvert_exporter": "python",
   "pygments_lexer": "ipython3",
   "version": "3.10.10"
  },
  "orig_nbformat": 4,
  "vscode": {
   "interpreter": {
    "hash": "aee8b7b246df8f9039afb4144a1f6fd8d2ca17a180786b69acc140d282b71a49"
   }
  }
 },
 "nbformat": 4,
 "nbformat_minor": 2
}
